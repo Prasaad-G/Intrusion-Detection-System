{
  "nbformat": 4,
  "nbformat_minor": 0,
  "metadata": {
    "colab": {
      "provenance": [],
      "authorship_tag": "ABX9TyNhxOD6TKkBaTbeqmgG+YQw",
      "include_colab_link": true
    },
    "kernelspec": {
      "name": "python3",
      "display_name": "Python 3"
    },
    "language_info": {
      "name": "python"
    }
  },
  "cells": [
    {
      "cell_type": "markdown",
      "metadata": {
        "id": "view-in-github",
        "colab_type": "text"
      },
      "source": [
        "<a href=\"https://colab.research.google.com/github/Prasaad-G/Intrusion-Detection-System/blob/main/IDS_2.ipynb\" target=\"_parent\"><img src=\"https://colab.research.google.com/assets/colab-badge.svg\" alt=\"Open In Colab\"/></a>"
      ]
    },
    {
      "cell_type": "code",
      "source": [
        "!pip install pandas scikit-learn joblib numpy\n",
        "\n",
        "\n",
        "import pandas as pd\n",
        "import numpy as np\n",
        "import joblib\n",
        "from sklearn.model_selection import train_test_split\n",
        "from sklearn.ensemble import RandomForestClassifier\n",
        "from sklearn.metrics import accuracy_score, classification_report"
      ],
      "metadata": {
        "colab": {
          "base_uri": "https://localhost:8080/"
        },
        "id": "V2msXY5edChB",
        "outputId": "438484d9-83ed-4ef2-d70c-c2838e312990"
      },
      "execution_count": null,
      "outputs": [
        {
          "output_type": "stream",
          "name": "stdout",
          "text": [
            "Requirement already satisfied: pandas in /usr/local/lib/python3.11/dist-packages (2.2.2)\n",
            "Requirement already satisfied: scikit-learn in /usr/local/lib/python3.11/dist-packages (1.6.1)\n",
            "Requirement already satisfied: joblib in /usr/local/lib/python3.11/dist-packages (1.4.2)\n",
            "Requirement already satisfied: numpy in /usr/local/lib/python3.11/dist-packages (1.26.4)\n",
            "Requirement already satisfied: python-dateutil>=2.8.2 in /usr/local/lib/python3.11/dist-packages (from pandas) (2.8.2)\n",
            "Requirement already satisfied: pytz>=2020.1 in /usr/local/lib/python3.11/dist-packages (from pandas) (2025.1)\n",
            "Requirement already satisfied: tzdata>=2022.7 in /usr/local/lib/python3.11/dist-packages (from pandas) (2025.1)\n",
            "Requirement already satisfied: scipy>=1.6.0 in /usr/local/lib/python3.11/dist-packages (from scikit-learn) (1.13.1)\n",
            "Requirement already satisfied: threadpoolctl>=3.1.0 in /usr/local/lib/python3.11/dist-packages (from scikit-learn) (3.5.0)\n",
            "Requirement already satisfied: six>=1.5 in /usr/local/lib/python3.11/dist-packages (from python-dateutil>=2.8.2->pandas) (1.17.0)\n"
          ]
        }
      ]
    },
    {
      "cell_type": "code",
      "source": [
        "# Load the dataset\n",
        "file_path = \"/content/network_data3.csv\"\n",
        "df = pd.read_csv(file_path)\n",
        "\n",
        "\n",
        "print(\"Dataset Preview:\")\n",
        "print(df.head())\n",
        "\n",
        "\n",
        "print(\"\\nColumns in the dataset:\")\n",
        "print(df.columns)\n",
        "\n",
        "# Rename columns to match expected format\n",
        "column_mapping = {\n",
        "    'ip.src': 'protocol_type',\n",
        "    'ip.dst': 'service',\n",
        "    'info': 'flag'\n",
        "}\n",
        "df.rename(columns=column_mapping, inplace=True)\n",
        "\n",
        "# Add 'label' column (dummy for now if missing)\n",
        "if 'label' not in df.columns:\n",
        "    df['label'] = 'unknown'\n",
        "\n",
        "# Keep only relevant columns\n",
        "df = df[['protocol_type', 'service', 'flag', 'label']]\n",
        "\n",
        "\n",
        "df.fillna('unknown', inplace=True)\n",
        "\n",
        "# Print updated column names\n",
        "print(\"\\nUpdated Columns:\")\n",
        "print(df.columns)\n",
        "\n",
        "# Print missing values count\n",
        "print(\"\\nMissing Values:\")\n",
        "print(df.isnull().sum())"
      ],
      "metadata": {
        "colab": {
          "base_uri": "https://localhost:8080/"
        },
        "id": "kWnqKdQxfBpr",
        "outputId": "a2fe77c9-01cd-41da-80d3-009df0aaa1db"
      },
      "execution_count": null,
      "outputs": [
        {
          "output_type": "stream",
          "name": "stdout",
          "text": [
            "Dataset Preview:\n",
            "   frame.time_epoch           ip.src           ip.dst  tcp.srcport  \\\n",
            "0      1.741284e+09   204.79.197.239      192.168.1.4        443.0   \n",
            "1      1.741284e+09      192.168.1.4   204.79.197.239      63504.0   \n",
            "2      1.741284e+09  142.250.193.162      192.168.1.4        443.0   \n",
            "3      1.741284e+09      192.168.1.4  142.250.193.162      63503.0   \n",
            "4      1.741284e+09  142.250.195.206      192.168.1.4          NaN   \n",
            "\n",
            "   tcp.dstport  http.file_data  \\\n",
            "0      63504.0             NaN   \n",
            "1        443.0             NaN   \n",
            "2      63503.0             NaN   \n",
            "3        443.0             NaN   \n",
            "4          NaN             NaN   \n",
            "\n",
            "                                                info  \n",
            "0  [TCP Keep-Alive ACK] 443 → 63504 [ACK] Seq=695...  \n",
            "1  [TCP Keep-Alive] 63504 → 443 [ACK] Seq=2848 Ac...  \n",
            "2  [TCP Keep-Alive ACK] 443 → 63503 [ACK] Seq=529...  \n",
            "3  [TCP Keep-Alive] 63503 → 443 [ACK] Seq=1811 Ac...  \n",
            "4                            Protected Payload (KP0)  \n",
            "\n",
            "Columns in the dataset:\n",
            "Index(['frame.time_epoch', 'ip.src', 'ip.dst', 'tcp.srcport', 'tcp.dstport',\n",
            "       'http.file_data', 'info'],\n",
            "      dtype='object')\n",
            "\n",
            "Updated Columns:\n",
            "Index(['protocol_type', 'service', 'flag', 'label'], dtype='object')\n",
            "\n",
            "Missing Values:\n",
            "protocol_type    0\n",
            "service          0\n",
            "flag             0\n",
            "label            0\n",
            "dtype: int64\n"
          ]
        }
      ]
    },
    {
      "cell_type": "code",
      "source": [
        "from sklearn.preprocessing import LabelEncoder\n",
        "\n",
        "encoder = LabelEncoder()\n",
        "for col in ['protocol_type', 'service', 'flag']:\n",
        "    df[col] = encoder.fit_transform(df[col])\n",
        "\n",
        "# Encode labels\n",
        "df['label'] = encoder.fit_transform(df['label'])\n",
        "\n",
        "print(\"\\nAfter Encoding:\")\n",
        "print(df.head())"
      ],
      "metadata": {
        "colab": {
          "base_uri": "https://localhost:8080/"
        },
        "id": "oJgEULErfLeR",
        "outputId": "de4ecfbb-c3f0-439b-b800-65da3cbfcc0f"
      },
      "execution_count": null,
      "outputs": [
        {
          "output_type": "stream",
          "name": "stdout",
          "text": [
            "\n",
            "After Encoding:\n",
            "   protocol_type  service  flag  label\n",
            "0             41       28  1422      0\n",
            "1             28       43  1427      0\n",
            "2              6       28  1421      0\n",
            "3             28        6  1426      0\n",
            "4              9       28  1041      0\n"
          ]
        }
      ]
    },
    {
      "cell_type": "code",
      "source": [
        "X = df.drop(columns=['label'])\n",
        "y = df['label']\n",
        "\n",
        "\n",
        "X_train, X_test, y_train, y_test = train_test_split(X, y, test_size=0.2, random_state=42)\n",
        "\n",
        "print(f\"\\nTraining samples: {len(X_train)}, Testing samples: {len(X_test)}\")"
      ],
      "metadata": {
        "colab": {
          "base_uri": "https://localhost:8080/"
        },
        "id": "VqjDt148fQmC",
        "outputId": "a16f6896-74f2-435c-f7bb-0fe5fc5f9867"
      },
      "execution_count": null,
      "outputs": [
        {
          "output_type": "stream",
          "name": "stdout",
          "text": [
            "\n",
            "Training samples: 13587, Testing samples: 3397\n"
          ]
        }
      ]
    },
    {
      "cell_type": "code",
      "source": [
        "# Train Random Forest Classifier\n",
        "model = RandomForestClassifier(n_estimators=100, random_state=42)\n",
        "model.fit(X_train, y_train)\n",
        "\n",
        "joblib.dump(model, \"intrusion_detection_model.pkl\")\n",
        "print(\"\\nModel trained and saved successfully!\")"
      ],
      "metadata": {
        "colab": {
          "base_uri": "https://localhost:8080/"
        },
        "id": "l0uryanRfY0i",
        "outputId": "49c57405-fe28-4608-b580-eb4e86e5df74"
      },
      "execution_count": null,
      "outputs": [
        {
          "output_type": "stream",
          "name": "stdout",
          "text": [
            "\n",
            "Model trained and saved successfully!\n"
          ]
        }
      ]
    },
    {
      "cell_type": "code",
      "source": [
        "# Load trained model\n",
        "model = joblib.load(\"intrusion_detection_model.pkl\")\n",
        "\n",
        "# Predict on test data\n",
        "y_pred = model.predict(X_test)\n",
        "\n",
        "# Evaluate accuracy\n",
        "accuracy = accuracy_score(y_test, y_pred)\n",
        "print(f\"\\nModel Accuracy: {accuracy * 100:.2f}%\")\n",
        "\n",
        "\n",
        "print(\"\\nClassification Report:\")\n",
        "print(classification_report(y_test, y_pred))"
      ],
      "metadata": {
        "colab": {
          "base_uri": "https://localhost:8080/"
        },
        "id": "fJB6hIJSfdx_",
        "outputId": "8b77fca2-548a-454d-8c43-2dd0707b38ea"
      },
      "execution_count": null,
      "outputs": [
        {
          "output_type": "stream",
          "name": "stdout",
          "text": [
            "\n",
            "Model Accuracy: 100.00%\n",
            "\n",
            "Classification Report:\n",
            "              precision    recall  f1-score   support\n",
            "\n",
            "           0       1.00      1.00      1.00      3397\n",
            "\n",
            "    accuracy                           1.00      3397\n",
            "   macro avg       1.00      1.00      1.00      3397\n",
            "weighted avg       1.00      1.00      1.00      3397\n",
            "\n"
          ]
        }
      ]
    },
    {
      "cell_type": "code",
      "source": [
        "import joblib\n",
        "\n",
        "encoder_dict = {}\n",
        "for col in ['protocol_type', 'service', 'flag']:\n",
        "    encoder_dict[col] = LabelEncoder()\n",
        "    df[col] = encoder_dict[col].fit_transform(df[col])\n",
        "\n",
        "# Save the encoders for later use\n",
        "joblib.dump(encoder_dict, \"label_encoders.pkl\")\n",
        "\n",
        "print(\"\\nEncoders saved successfully!\")"
      ],
      "metadata": {
        "colab": {
          "base_uri": "https://localhost:8080/"
        },
        "id": "gN3udeXgfjnm",
        "outputId": "baa4dca8-8385-49e8-875b-445767ed88fb"
      },
      "execution_count": null,
      "outputs": [
        {
          "output_type": "stream",
          "name": "stdout",
          "text": [
            "\n",
            "Encoders saved successfully!\n"
          ]
        }
      ]
    },
    {
      "cell_type": "code",
      "source": [
        "# Load the trained model and encoders\n",
        "model = joblib.load(\"intrusion_detection_model.pkl\")\n",
        "encoder_dict = joblib.load(\"label_encoders.pkl\")\n",
        "\n",
        "def safe_encode(value, column_name):\n",
        "    \"\"\"Encodes a value safely, assigning 'unknown' if unseen.\"\"\"\n",
        "    encoder = encoder_dict[column_name]\n",
        "\n",
        "    if value in encoder.classes_:\n",
        "        return encoder.transform([value])[0]  # Return encoded value\n",
        "    else:\n",
        "        return len(encoder.classes_)  # Assign new category for unseen values\n",
        "\n",
        "def detect_intrusion(new_data):\n",
        "    \"\"\"Predict intrusion from new network traffic data.\"\"\"\n",
        "    new_data_df = pd.DataFrame([new_data])\n",
        "\n",
        "    for col in ['protocol_type', 'service', 'flag']:\n",
        "        new_data_df[col] = safe_encode(new_data_df[col][0], col)\n",
        "\n",
        "    # Make prediction\n",
        "    prediction = model.predict(new_data_df)\n",
        "    return \"🚨 Intrusion Detected!\" if prediction[0] == 1 else \"✅ Normal Traffic\"\n",
        "\n",
        "sample_input = {'protocol_type': 'TCP', 'service': 'http', 'flag': 'SF'}\n",
        "print(\"\\nTest Prediction:\", detect_intrusion(sample_input))"
      ],
      "metadata": {
        "colab": {
          "base_uri": "https://localhost:8080/"
        },
        "id": "o6Pl5aGEg7Cn",
        "outputId": "1535ad40-4161-47fc-9a39-a6063b26f0d9"
      },
      "execution_count": null,
      "outputs": [
        {
          "output_type": "stream",
          "name": "stdout",
          "text": [
            "\n",
            "Test Prediction: ✅ Normal Traffic\n"
          ]
        }
      ]
    }
  ]
}